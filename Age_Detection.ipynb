{
  "nbformat": 4,
  "nbformat_minor": 0,
  "metadata": {
    "colab": {
      "provenance": []
    },
    "kernelspec": {
      "name": "python3",
      "display_name": "Python 3"
    },
    "language_info": {
      "name": "python"
    }
  },
  "cells": [
    {
      "cell_type": "code",
      "execution_count": null,
      "metadata": {
        "id": "97yEquG57ohO"
      },
      "outputs": [],
      "source": [
        "import cv2\n",
        "import dlib\n",
        "import numpy as np"
      ]
    },
    {
      "cell_type": "code",
      "source": [
        "img = cv2.imread('/Abhishek_pic.jpeg')\n",
        "img = cv2.resize(img,(720, 640))\n",
        "frame = img.copy()"
      ],
      "metadata": {
        "id": "_nEWKHdF8gpg"
      },
      "execution_count": null,
      "outputs": []
    },
    {
      "cell_type": "code",
      "source": [
        "from google.colab import drive\n",
        "drive.mount('/content/drive')"
      ],
      "metadata": {
        "id": "P7Jk_aFX-pIS",
        "colab": {
          "base_uri": "https://localhost:8080/"
        },
        "outputId": "c8702511-b9bd-407a-e955-ff5dba57c629"
      },
      "execution_count": null,
      "outputs": [
        {
          "output_type": "stream",
          "name": "stdout",
          "text": [
            "Drive already mounted at /content/drive; to attempt to forcibly remount, call drive.mount(\"/content/drive\", force_remount=True).\n"
          ]
        }
      ]
    },
    {
      "cell_type": "code",
      "source": [
        "# ------------ Model for Age detection --------#\n",
        "age_weights = \"/content/age_deploy.prototxt\"\n",
        "age_config = \"/content/age_net.caffemodel\"\n",
        "age_Net = cv2.dnn.readNet(age_config, age_weights)"
      ],
      "metadata": {
        "id": "r4pmrOTC8ks3"
      },
      "execution_count": null,
      "outputs": []
    },
    {
      "cell_type": "code",
      "source": [
        "# Model requirements for image\n",
        "ageList = ['(0-2)', '(4-6)', '(8-12)', '(15-20)',\n",
        "\t\t'(25-32)', '(38-43)', '(48-53)', '(60-100)']\n",
        "model_mean = (78.4263377603, 87.7689143744, 114.895847746)"
      ],
      "metadata": {
        "id": "A3-UcJO48nij"
      },
      "execution_count": null,
      "outputs": []
    },
    {
      "cell_type": "code",
      "source": [
        "# storing the image dimensions\n",
        "fH = img.shape[0]\n",
        "fW = img.shape[1]\n",
        "\n",
        "Boxes = [] # to store the face co-ordinates\n",
        "mssg = 'Face Detected' # to display on image"
      ],
      "metadata": {
        "id": "8c1OlTMa8qKP"
      },
      "execution_count": null,
      "outputs": []
    },
    {
      "cell_type": "code",
      "source": [
        "# ------------- Model for face detection---------#\n",
        "face_detector = dlib.get_frontal_face_detector()"
      ],
      "metadata": {
        "id": "gbSJ2EE282xk"
      },
      "execution_count": null,
      "outputs": []
    },
    {
      "cell_type": "code",
      "source": [
        "\n",
        "# converting to grayscale\n",
        "img_gray = cv2.cvtColor(frame, cv2.COLOR_BGR2GRAY)"
      ],
      "metadata": {
        "id": "jQXpBJAm87Vu"
      },
      "execution_count": null,
      "outputs": []
    },
    {
      "cell_type": "code",
      "source": [
        "# -------------detecting the faces--------------#\n",
        "faces = face_detector(img_gray)"
      ],
      "metadata": {
        "id": "JPeQdoJF8_Ci"
      },
      "execution_count": null,
      "outputs": []
    },
    {
      "cell_type": "code",
      "source": [
        "from google.colab.patches import cv2_imshow"
      ],
      "metadata": {
        "id": "HqfuJzYcEZNI"
      },
      "execution_count": null,
      "outputs": []
    },
    {
      "cell_type": "code",
      "source": [
        "# If no faces our detected\n",
        "if not faces:\n",
        "\tmssg = 'No face detected'\n",
        "\tcv2.putText(img, f'{mssg}', (40, 40),\n",
        "\t\t\t\tcv2.FONT_HERSHEY_SIMPLEX, 2, (200), 2)\n",
        "\tcv2_imshow('Age detected', img)\n",
        "\tcv2.waitKey(0)\n",
        "\n",
        "else:\n",
        "\t# --------- Bounding Face ---------#\n",
        "\tfor face in faces:\n",
        "\t\tx = face.left() # extracting the face coordinates\n",
        "\t\ty = face.top()\n",
        "\t\tx2 = face.right()\n",
        "\t\ty2 = face.bottom()\n",
        "\n",
        "\t\t# rescaling those coordinates for our image\n",
        "\t\tbox = [x, y, x2, y2]\n",
        "\t\tBoxes.append(box)\n",
        "\t\tcv2.rectangle(frame, (x, y), (x2, y2),\n",
        "\t\t\t\t\t(00, 200, 200), 2)\n",
        "\n",
        "\tfor box in Boxes:\n",
        "\t\tface = frame[box[1]:box[3], box[0]:box[2]]\n",
        "\n",
        "\t\t# ----- Image preprocessing --------#\n",
        "\t\tblob = cv2.dnn.blobFromImage(\n",
        "\t\t\tface, 1.0, (227, 227), model_mean, swapRB=False)\n",
        "\n",
        "\t\t# -------Age Prediction---------#\n",
        "\t\tage_Net.setInput(blob)\n",
        "\t\tage_preds = age_Net.forward()\n",
        "\t\tage = ageList[age_preds[0].argmax()]\n",
        "\n",
        "\t\tcv2.putText(frame, f'{mssg}:{age}', (box[0],\n",
        "\t\t\t\t\t\t\t\t\t\t\tbox[1] - 10),\n",
        "\t\t\t\t\tcv2.FONT_HERSHEY_SIMPLEX, 0.8,\n",
        "\t\t\t\t\t(0, 255, 255), 2, cv2.LINE_AA)\n",
        "\n",
        "\t\tcv2_imshow(frame)\n",
        "\t\tcv2.waitKey(0)"
      ],
      "metadata": {
        "id": "0rAQkKqS9F4l",
        "colab": {
          "base_uri": "https://localhost:8080/",
          "height": 207
        },
        "outputId": "431564d4-8607-4cdd-cc3b-7e09b0643592"
      },
      "execution_count": null,
      "outputs": [
        {
          "output_type": "error",
          "ename": "TypeError",
          "evalue": "cv2_imshow() takes 1 positional argument but 2 were given",
          "traceback": [
            "\u001b[0;31m---------------------------------------------------------------------------\u001b[0m",
            "\u001b[0;31mTypeError\u001b[0m                                 Traceback (most recent call last)",
            "\u001b[0;32m<ipython-input-112-dcf2b98166a0>\u001b[0m in \u001b[0;36m<cell line: 2>\u001b[0;34m()\u001b[0m\n\u001b[1;32m      4\u001b[0m \tcv2.putText(img, f'{mssg}', (40, 40),\n\u001b[1;32m      5\u001b[0m \t\t\t\tcv2.FONT_HERSHEY_SIMPLEX, 2, (200), 2)\n\u001b[0;32m----> 6\u001b[0;31m         \u001b[0mcv2_imshow\u001b[0m\u001b[0;34m(\u001b[0m\u001b[0;34m'Age detected'\u001b[0m\u001b[0;34m,\u001b[0m \u001b[0mimg\u001b[0m\u001b[0;34m)\u001b[0m\u001b[0;34m\u001b[0m\u001b[0;34m\u001b[0m\u001b[0m\n\u001b[0m\u001b[1;32m      7\u001b[0m         \u001b[0mcv2\u001b[0m\u001b[0;34m.\u001b[0m\u001b[0mwaitKey\u001b[0m\u001b[0;34m(\u001b[0m\u001b[0;36m0\u001b[0m\u001b[0;34m)\u001b[0m\u001b[0;34m\u001b[0m\u001b[0;34m\u001b[0m\u001b[0m\n\u001b[1;32m      8\u001b[0m \u001b[0;34m\u001b[0m\u001b[0m\n",
            "\u001b[0;31mTypeError\u001b[0m: cv2_imshow() takes 1 positional argument but 2 were given"
          ]
        }
      ]
    },
    {
      "cell_type": "code",
      "source": [],
      "metadata": {
        "id": "MUkP36CFDRV8"
      },
      "execution_count": null,
      "outputs": []
    }
  ]
}